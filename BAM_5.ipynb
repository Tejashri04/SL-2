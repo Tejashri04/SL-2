{
 "cells": [
  {
   "cell_type": "code",
   "execution_count": 1,
   "id": "865f15b7",
   "metadata": {},
   "outputs": [],
   "source": [
    "import numpy as np"
   ]
  },
  {
   "cell_type": "code",
   "execution_count": 2,
   "id": "3de809f3",
   "metadata": {},
   "outputs": [],
   "source": [
    "# define two pairs of vectors\n",
    "x1 = np.array([1,1,1,-1])        # x1 and x2 represent input patterns\n",
    "y1 = np.array([1,-1])\n",
    "x2 = np.array([-1,-1,1,1])\n",
    "y2 = np.array([-1,1])"
   ]
  },
  {
   "cell_type": "code",
   "execution_count": 3,
   "id": "1ef6929d",
   "metadata": {},
   "outputs": [
    {
     "name": "stdout",
     "output_type": "stream",
     "text": [
      "[[ 1  1  1 -1]\n",
      " [-1 -1 -1  1]]\n",
      "\n",
      "[[ 1  1 -1 -1]\n",
      " [-1 -1  1  1]]\n"
     ]
    }
   ],
   "source": [
    "# compute weight matrix W\n",
    "print(np.outer(y1,x1))\n",
    "print()\n",
    "print(np.outer(y2,x2))"
   ]
  },
  {
   "cell_type": "code",
   "execution_count": 4,
   "id": "e370d1ba",
   "metadata": {},
   "outputs": [
    {
     "name": "stdout",
     "output_type": "stream",
     "text": [
      "[[ 2  2  0 -2]\n",
      " [-2 -2  0  2]]\n"
     ]
    }
   ],
   "source": [
    "W = np.outer(y1,x1) + np.outer(y2,x2)\n",
    "print(W)"
   ]
  },
  {
   "cell_type": "code",
   "execution_count": 5,
   "id": "a1bd48b2",
   "metadata": {},
   "outputs": [],
   "source": [
    "# define BAM function\n",
    "def bam(x):\n",
    "    y = np.dot(W,x)\n",
    "    y = np.where(y >= 0,1,-1)\n",
    "    return y"
   ]
  },
  {
   "cell_type": "code",
   "execution_count": 6,
   "id": "ce7be7bc",
   "metadata": {},
   "outputs": [],
   "source": [
    "# test BAM with inputs\n",
    "x_test = np.array([1,-1,-1,-1])\n",
    "y_test = bam(x_test)"
   ]
  },
  {
   "cell_type": "code",
   "execution_count": 7,
   "id": "8835a79d",
   "metadata": {},
   "outputs": [
    {
     "name": "stdout",
     "output_type": "stream",
     "text": [
      "Input x:  [ 1 -1 -1 -1]\n",
      "Output y:  [ 1 -1]\n"
     ]
    }
   ],
   "source": [
    "# print output\n",
    "print(\"Input x: \", x_test)\n",
    "print(\"Output y: \", y_test)"
   ]
  },
  {
   "cell_type": "code",
   "execution_count": 8,
   "id": "26a8b61e",
   "metadata": {},
   "outputs": [
    {
     "name": "stdout",
     "output_type": "stream",
     "text": [
      "[ 2 -2]\n"
     ]
    }
   ],
   "source": [
    "print(W @ x_test)"
   ]
  },
  {
   "cell_type": "code",
   "execution_count": null,
   "id": "762c23c9",
   "metadata": {},
   "outputs": [],
   "source": []
  }
 ],
 "metadata": {
  "kernelspec": {
   "display_name": "Python 3 (ipykernel)",
   "language": "python",
   "name": "python3"
  },
  "language_info": {
   "codemirror_mode": {
    "name": "ipython",
    "version": 3
   },
   "file_extension": ".py",
   "mimetype": "text/x-python",
   "name": "python",
   "nbconvert_exporter": "python",
   "pygments_lexer": "ipython3",
   "version": "3.11.5"
  }
 },
 "nbformat": 4,
 "nbformat_minor": 5
}
