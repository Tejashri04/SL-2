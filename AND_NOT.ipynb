{
 "cells": [
  {
   "cell_type": "code",
   "execution_count": 1,
   "id": "d13b3bde",
   "metadata": {},
   "outputs": [],
   "source": [
    "import numpy as np"
   ]
  },
  {
   "cell_type": "code",
   "execution_count": 2,
   "id": "457e658d",
   "metadata": {},
   "outputs": [],
   "source": [
    "def linear_threshold_gate(dot,T):\n",
    "    if dot >= T:\n",
    "        return 1\n",
    "    else :\n",
    "        return 0"
   ]
  },
  {
   "cell_type": "code",
   "execution_count": 3,
   "id": "4027903d",
   "metadata": {},
   "outputs": [],
   "source": [
    "input_table = np.array([\n",
    "    [0,0],       #lhs -> 0 ,  rhs -> 0 -> ~0 -> 1   , 0 AND 1 = 0\n",
    "    [0,1],\n",
    "    [1,0],\n",
    "    [1,1]\n",
    "])"
   ]
  },
  {
   "cell_type": "code",
   "execution_count": 4,
   "id": "9fb9b643",
   "metadata": {},
   "outputs": [
    {
     "name": "stdout",
     "output_type": "stream",
     "text": [
      "input table : \n",
      " [[0 0]\n",
      " [0 1]\n",
      " [1 0]\n",
      " [1 1]]\n"
     ]
    }
   ],
   "source": [
    "print(f'input table : \\n {input_table}')"
   ]
  },
  {
   "cell_type": "code",
   "execution_count": 5,
   "id": "611a2030",
   "metadata": {},
   "outputs": [],
   "source": [
    "weights = np.array([1,-1])"
   ]
  },
  {
   "cell_type": "code",
   "execution_count": 6,
   "id": "c6d03f32",
   "metadata": {},
   "outputs": [
    {
     "name": "stdout",
     "output_type": "stream",
     "text": [
      "[ 0 -1  1  0]\n"
     ]
    }
   ],
   "source": [
    "dot_products = input_table @ weights\n",
    "print(dot_products) \n",
    "\n",
    "# For the first row of the input table [0, 0]:\n",
    "# Dot product = (0 * 1) + (0 * -1) = 0"
   ]
  },
  {
   "cell_type": "code",
   "execution_count": 7,
   "id": "508b1a8f",
   "metadata": {},
   "outputs": [
    {
     "name": "stdout",
     "output_type": "stream",
     "text": [
      "Activation : 0\n",
      "Activation : 0\n",
      "Activation : 1\n",
      "Activation : 0\n"
     ]
    }
   ],
   "source": [
    "T = 1\n",
    "for i in range(0,4):\n",
    "    activation = linear_threshold_gate(dot_products[i],T)\n",
    "    print(f'Activation : {activation}')"
   ]
  },
  {
   "cell_type": "code",
   "execution_count": null,
   "id": "63ad6cc9",
   "metadata": {},
   "outputs": [],
   "source": []
  }
 ],
 "metadata": {
  "kernelspec": {
   "display_name": "Python 3 (ipykernel)",
   "language": "python",
   "name": "python3"
  },
  "language_info": {
   "codemirror_mode": {
    "name": "ipython",
    "version": 3
   },
   "file_extension": ".py",
   "mimetype": "text/x-python",
   "name": "python",
   "nbconvert_exporter": "python",
   "pygments_lexer": "ipython3",
   "version": "3.11.5"
  }
 },
 "nbformat": 4,
 "nbformat_minor": 5
}
