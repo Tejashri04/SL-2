{
 "cells": [
  {
   "cell_type": "code",
   "execution_count": 1,
   "id": "6e3054f9",
   "metadata": {},
   "outputs": [
    {
     "name": "stdout",
     "output_type": "stream",
     "text": [
      "[[0]]\n",
      "[[1]]\n",
      "[[1]]\n",
      "[[0]]\n"
     ]
    }
   ],
   "source": [
    "import numpy as np\n",
    "class Neural:\n",
    "    def __init__(self,no_of_input,no_of_neuron):\n",
    "        self.weight_input_hidden = np.random.random((no_of_input,no_of_neuron))\n",
    "        self.bias_hidden = np.random.random((1,no_of_neuron))\n",
    "        self.weight_hidden_output = np.random.random((no_of_neuron,1))\n",
    "        self.bias_output = np.random.random((1,1))\n",
    "\n",
    "    def threshold(self,x):\n",
    "        result = []\n",
    "        for i in x[0]:\n",
    "            if i >=1:\n",
    "                result.append(1)\n",
    "            else:\n",
    "                result.append(0)\n",
    "        return np.array([result])\n",
    "\n",
    "    def forward(self,x):\n",
    "        self.y1 = np.dot(x,self.weight_input_hidden) + self.bias_hidden\n",
    "        self.y1 = self.threshold(self.y1)\n",
    "        self.y2 = np.dot(self.y1,self.weight_hidden_output) + self.bias_output\n",
    "        self.y2 = self.threshold(self.y2)\n",
    "        return self.y2\n",
    "    \n",
    "    def backpropogate(self,x,y):\n",
    "        error_output = self.y2 - y\n",
    "        error_hidden = self.weight_hidden_output*error_output   \n",
    "        self.weight_hidden_output -= lr*np.dot(error_output,self.y1).T\n",
    "        self.weight_input_hidden -= lr*error_hidden.T*x\n",
    "        self.bias_output -=    lr*error_output.T\n",
    "        self.bias_hidden -= lr*error_hidden.T\n",
    "    def train(self,x,y,epoch):\n",
    "        for _ in range(epoch):\n",
    "            for i in range(len(x)):\n",
    "                self.forward(x[i])\n",
    "                self.backpropogate(x[i],y[i])\n",
    "        \n",
    "    def test(self,x):\n",
    "        for i in range(len(x)):\n",
    "            print(self.forward(x[i]))\n",
    "\n",
    "lr = 0.1\n",
    "x = np.array([[0,0],[0,1],[1,0],[1,1]])\n",
    "y = np.array([[0],[1],[1],[0]])\n",
    "layer1 = Neural(2,2)\n",
    "layer1.train(x,y,100000)\n",
    "layer1.test(x)\n"
   ]
  },
  {
   "cell_type": "code",
   "execution_count": null,
   "id": "3571c509",
   "metadata": {},
   "outputs": [],
   "source": []
  }
 ],
 "metadata": {
  "kernelspec": {
   "display_name": "Python 3 (ipykernel)",
   "language": "python",
   "name": "python3"
  },
  "language_info": {
   "codemirror_mode": {
    "name": "ipython",
    "version": 3
   },
   "file_extension": ".py",
   "mimetype": "text/x-python",
   "name": "python",
   "nbconvert_exporter": "python",
   "pygments_lexer": "ipython3",
   "version": "3.11.5"
  }
 },
 "nbformat": 4,
 "nbformat_minor": 5
}
